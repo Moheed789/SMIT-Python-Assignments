{
 "cells": [
  {
   "cell_type": "markdown",
   "id": "eedbbeec-2f92-4bc5-b72e-4e97a2249cab",
   "metadata": {},
   "source": [
    "# Classes"
   ]
  },
  {
   "cell_type": "markdown",
   "id": "e33d90e9-1e27-451b-b6c5-6cb48956743c",
   "metadata": {},
   "source": [
    "1. Write a Python program to create a class representing a Circle. Include methods to calculate its area and perimeter."
   ]
  },
  {
   "cell_type": "code",
   "execution_count": 2,
   "id": "cd58297f-a36c-49a8-99db-1e24a111fce4",
   "metadata": {},
   "outputs": [
    {
     "name": "stdout",
     "output_type": "stream",
     "text": [
      "Area: 78.53981633974483\n",
      "Perimeter: 31.41592653589793\n"
     ]
    }
   ],
   "source": [
    "import math\n",
    "\n",
    "class Circle():\n",
    "    def __init__(self, radius):\n",
    "        self.radius = radius\n",
    "\n",
    "    def area(self):\n",
    "        return math.pi * (self.radius ** 2)\n",
    "\n",
    "    def perimeter(self):\n",
    "        return 2 * math.pi * self.radius\n",
    "\n",
    "circle = Circle(5)\n",
    "print('Area:', circle.area())\n",
    "print('Perimeter:', circle.perimeter())"
   ]
  },
  {
   "cell_type": "markdown",
   "id": "06588ad8-58ce-4d42-bd06-6f1e67ddafd6",
   "metadata": {},
   "source": [
    "2. Write a Python program to create a person class. Include attributes like name, country and date of birth. Implement a method to determine the person's age."
   ]
  },
  {
   "cell_type": "code",
   "execution_count": 9,
   "id": "52b233e3-13b9-4716-a99e-d6ce01148cfd",
   "metadata": {},
   "outputs": [
    {
     "name": "stdin",
     "output_type": "stream",
     "text": [
      "Enter your name:  Moheed\n",
      "Enter your country:  Pakistan\n",
      "Enter your year of birth:  2004\n"
     ]
    },
    {
     "name": "stdout",
     "output_type": "stream",
     "text": [
      "Your age is 21\n"
     ]
    }
   ],
   "source": [
    "class Person:\n",
    "    def __init__(self, name, country, date_of_birth):\n",
    "        self.name = name\n",
    "        self.country = country\n",
    "        self.date_of_birth = int(date_of_birth)\n",
    "\n",
    "    def person_age(self):\n",
    "        current_year = 2025\n",
    "        return current_year - self.date_of_birth\n",
    "\n",
    "name = input(\"Enter your name: \")\n",
    "country = input(\"Enter your country: \")\n",
    "date_of_birth = int(input(\"Enter your year of birth: \"))\n",
    "\n",
    "person_details = Person(name, country, date_of_birth)\n",
    "\n",
    "age = person_details.person_age()\n",
    "print(f\"Your age is {age}\")"
   ]
  },
  {
   "cell_type": "markdown",
   "id": "6e4e34ea-7a67-4fbf-825c-0e4cf8faa7b3",
   "metadata": {},
   "source": [
    "3. Write a Python program to create a calculator class. Include methods for basic arithmetic operations."
   ]
  },
  {
   "cell_type": "code",
   "execution_count": 10,
   "id": "8bbe32e8-737e-41ca-aac1-262fccb70df6",
   "metadata": {},
   "outputs": [
    {
     "name": "stdout",
     "output_type": "stream",
     "text": [
      "Addition: 15\n",
      "Subtraction: 5\n",
      "Multiplication: 50\n",
      "Division: 2.0\n"
     ]
    }
   ],
   "source": [
    "class Calculator:\n",
    "    def add(self, a, b):\n",
    "        return a + b\n",
    "\n",
    "    def subtract(self, a, b):\n",
    "        return a - b\n",
    "\n",
    "    def multiply(self, a, b):\n",
    "        return a * b\n",
    "\n",
    "    def divide(self, a, b):\n",
    "        if b != 0:\n",
    "            return a / b\n",
    "        else:\n",
    "            return \"Error...\"\n",
    "\n",
    "calc = Calculator()\n",
    "\n",
    "print(\"Addition:\", calc.add(10, 5))\n",
    "print(\"Subtraction:\", calc.subtract(10, 5))\n",
    "print(\"Multiplication:\", calc.multiply(10, 5))\n",
    "print(\"Division:\", calc.divide(10, 5))"
   ]
  },
  {
   "cell_type": "code",
   "execution_count": null,
   "id": "e1b64259-bdac-4150-9e92-0b867c65ab43",
   "metadata": {},
   "outputs": [],
   "source": []
  }
 ],
 "metadata": {
  "kernelspec": {
   "display_name": "Python 3 (ipykernel)",
   "language": "python",
   "name": "python3"
  },
  "language_info": {
   "codemirror_mode": {
    "name": "ipython",
    "version": 3
   },
   "file_extension": ".py",
   "mimetype": "text/x-python",
   "name": "python",
   "nbconvert_exporter": "python",
   "pygments_lexer": "ipython3",
   "version": "3.13.5"
  }
 },
 "nbformat": 4,
 "nbformat_minor": 5
}
