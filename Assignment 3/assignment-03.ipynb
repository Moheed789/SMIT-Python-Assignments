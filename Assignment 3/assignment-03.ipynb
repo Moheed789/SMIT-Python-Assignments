{
 "cells": [
  {
   "cell_type": "markdown",
   "id": "f0cf5ab9-371c-4ce0-9887-75dbb3c31951",
   "metadata": {},
   "source": [
    "# Strings"
   ]
  },
  {
   "cell_type": "markdown",
   "id": "2ed0e83e-a324-417f-af05-ab927236e432",
   "metadata": {},
   "source": [
    "1. Write a program that accepts a string from user. Your program should count and display number of vowels in that string."
   ]
  },
  {
   "cell_type": "code",
   "execution_count": 3,
   "id": "fe4c32fc-8852-4ef5-b4a6-451a30705188",
   "metadata": {},
   "outputs": [
    {
     "name": "stdin",
     "output_type": "stream",
     "text": [
      "Enter a string:  moHeEd\n"
     ]
    },
    {
     "name": "stdout",
     "output_type": "stream",
     "text": [
      "Number of vowels: 3\n"
     ]
    }
   ],
   "source": [
    "text = input(\"Enter a string: \")\n",
    "\n",
    "vowels = \"aeiouAEIOU\"\n",
    "count = sum(text.count(v) for v in vowels)\n",
    "\n",
    "print(\"Number of vowels:\", count)"
   ]
  },
  {
   "cell_type": "markdown",
   "id": "345c8d32-1f59-4b1f-afdc-e0125eccaddf",
   "metadata": {},
   "source": [
    "2. Write a program that reads a string from keyboard and display:\n",
    "* The number of uppercase letters in the string\n",
    "* The number of lowercase letters in the string\n",
    "* The number of digits in the string\n",
    "* The number of whitespace characters in the string"
   ]
  },
  {
   "cell_type": "code",
   "execution_count": 4,
   "id": "cc2425ad-4a2a-49a9-af56-da40284d5702",
   "metadata": {},
   "outputs": [
    {
     "name": "stdin",
     "output_type": "stream",
     "text": [
      "Enter a string:  Moheed Siddiqui 01\n"
     ]
    },
    {
     "name": "stdout",
     "output_type": "stream",
     "text": [
      "Uppercase letters: 2\n",
      "Lowercase letters: 12\n",
      "Digits: 2\n",
      "Whitespace characters: 2\n"
     ]
    }
   ],
   "source": [
    "text = input(\"Enter a string: \")\n",
    "\n",
    "upper = sum(1 for ch in text if ch.isupper())\n",
    "lower = sum(1 for ch in text if ch.islower())\n",
    "digits = sum(1 for ch in text if ch.isdigit())\n",
    "spaces = sum(1 for ch in text if ch.isspace())\n",
    "\n",
    "print(\"Uppercase letters:\", upper)\n",
    "print(\"Lowercase letters:\", lower)\n",
    "print(\"Digits:\", digits)\n",
    "print(\"Whitespace characters:\", spaces)"
   ]
  },
  {
   "cell_type": "markdown",
   "id": "750e586d-80d5-4824-bebb-5b54bf8e8192",
   "metadata": {},
   "source": [
    "3. Write a Python program that accepts a string from user. Your program should create and display a\n",
    "new string where the first and last characters have been exchanged.\n",
    "\n",
    "For example if the user enters the string 'HELLO' then new string would be 'OELLH'"
   ]
  },
  {
   "cell_type": "code",
   "execution_count": 6,
   "id": "9c25cdf5-e6e9-453d-b50b-1705e1cbf1f0",
   "metadata": {},
   "outputs": [
    {
     "name": "stdin",
     "output_type": "stream",
     "text": [
      "Enter a string:  HELLO\n"
     ]
    },
    {
     "name": "stdout",
     "output_type": "stream",
     "text": [
      "New string: OELLH\n"
     ]
    }
   ],
   "source": [
    "text = input(\"Enter a string: \")\n",
    "\n",
    "if len(text) <= 1:\n",
    "    new_text = text\n",
    "else:\n",
    "    new_text = text[-1] + text[1:-1] + text[0]\n",
    "\n",
    "print(\"New string:\", new_text)"
   ]
  },
  {
   "cell_type": "markdown",
   "id": "605c913a-e56f-46b7-96f4-a014296347f6",
   "metadata": {},
   "source": [
    "4. Write a Python program that accepts a string from user. Your program should create a new string in\n",
    "reverse of first string and display it.\n",
    "\n",
    "For example if the user enters the string 'EXAM' then new string would be 'MAXE'"
   ]
  },
  {
   "cell_type": "code",
   "execution_count": 18,
   "id": "9f8c7f0d-a471-4e0f-8e6c-effb3107e27e",
   "metadata": {},
   "outputs": [
    {
     "name": "stdin",
     "output_type": "stream",
     "text": [
      "Enter a word:  EXAM\n"
     ]
    },
    {
     "name": "stdout",
     "output_type": "stream",
     "text": [
      "MAXE\n"
     ]
    }
   ],
   "source": [
    "text = input(\"Enter a word: \")\n",
    "\n",
    "reversed_text = text[::-1]\n",
    "\n",
    "print(reversed_text)"
   ]
  },
  {
   "cell_type": "markdown",
   "id": "6c2b8af6-bfae-4417-93d8-dc16f776e951",
   "metadata": {},
   "source": [
    "5. Write a Python program that accepts a string from user. Your program should create a new string by\n",
    "shifting one position to left.\n",
    "\n",
    "For example if the user enters the string 'examination 2021' then new string would be 'xamination\n",
    "2021e'"
   ]
  },
  {
   "cell_type": "code",
   "execution_count": 19,
   "id": "32a0159e-51c9-4078-a862-5cf25e9a11d7",
   "metadata": {},
   "outputs": [
    {
     "name": "stdin",
     "output_type": "stream",
     "text": [
      "Enter a string:  examination 2021\n"
     ]
    },
    {
     "name": "stdout",
     "output_type": "stream",
     "text": [
      "New string: xamination 2021e\n"
     ]
    }
   ],
   "source": [
    "text = input(\"Enter a string: \")\n",
    "\n",
    "if len(text) <= 1:\n",
    "    new_text = text\n",
    "else:\n",
    "    new_text = text[1:] + text[0]\n",
    "\n",
    "print(\"New string:\", new_text)"
   ]
  },
  {
   "cell_type": "markdown",
   "id": "051717c8-3cca-4045-b90d-a8e2419bf451",
   "metadata": {},
   "source": [
    "6. Write a program that asks the user to input his name and print its initials. Assuming that the user\n",
    "always types first name, middle name and last name and does not include any unnecessary spaces.\n",
    "\n",
    "For example, if the user enters Ajay Kumar Garg the program should display A. K. G.\n",
    "Note:Don't use split() method"
   ]
  },
  {
   "cell_type": "code",
   "execution_count": 20,
   "id": "2a89d4c6-30fc-417f-b087-0a14c28e1b2e",
   "metadata": {},
   "outputs": [
    {
     "name": "stdin",
     "output_type": "stream",
     "text": [
      "Enter your full name:  Ajay Kumar Garg\n"
     ]
    },
    {
     "name": "stdout",
     "output_type": "stream",
     "text": [
      "Initials: A. K. G. \n"
     ]
    }
   ],
   "source": [
    "name = input(\"Enter your full name: \")\n",
    "\n",
    "initials = name[0] + \". \"\n",
    "\n",
    "for i in range(len(name)):\n",
    "    if name[i] == \" \":\n",
    "        initials += name[i+1] + \". \"\n",
    "\n",
    "print(\"Initials:\", initials)"
   ]
  },
  {
   "cell_type": "markdown",
   "id": "f23c6222-675a-4598-bae1-1edc30dbd9f4",
   "metadata": {},
   "source": [
    "7. A palindrome is a string that reads the same backward as forward. For example, the words dad,\n",
    "madam and radar are all palindromes. Write a programs that determines whether the string is a\n",
    "palindrome.\n",
    "\n",
    "Note: do not use reverse() method"
   ]
  },
  {
   "cell_type": "code",
   "execution_count": 24,
   "id": "0141127c-1c39-49d5-8577-d31686fd2348",
   "metadata": {},
   "outputs": [
    {
     "name": "stdin",
     "output_type": "stream",
     "text": [
      "Enter a word:  dad\n"
     ]
    },
    {
     "name": "stdout",
     "output_type": "stream",
     "text": [
      "Palindrome\n"
     ]
    }
   ],
   "source": [
    "text = input(\"Enter a word: \")\n",
    "\n",
    "if text == text[::-1]:\n",
    "    print(\"Palindrome\")\n",
    "else:\n",
    "    print(\"Not Palindrome\")"
   ]
  },
  {
   "cell_type": "markdown",
   "id": "dd979e09-76ce-443f-82b1-fb26fc061fbb",
   "metadata": {},
   "source": [
    "8. Write a program that display following output:\n",
    "\n",
    "SHIFT\n",
    "\n",
    "HIFTS\n",
    "\n",
    "IFTSH\n",
    "\n",
    "FTSHI\n",
    "\n",
    "TSHIF\n",
    "\n",
    "SHIFT"
   ]
  },
  {
   "cell_type": "code",
   "execution_count": 28,
   "id": "6a787911-2add-485a-ad74-43272e0bef75",
   "metadata": {},
   "outputs": [
    {
     "name": "stdout",
     "output_type": "stream",
     "text": [
      "SHIFT\n",
      "HIFTS\n",
      "IFTSH\n",
      "FTSHI\n",
      "TSHIF\n",
      "SHIFT\n"
     ]
    }
   ],
   "source": [
    "word = \"SHIFT\"\n",
    "n = len(word)\n",
    "\n",
    "for i in range(n):\n",
    "    rotated = word[i:] + word[:i]\n",
    "    print(rotated)\n",
    "    \n",
    "print(word)"
   ]
  },
  {
   "cell_type": "markdown",
   "id": "27c1e090-da17-45ce-ab2d-2f9c0334b13d",
   "metadata": {},
   "source": [
    "9. Write a program in python that accepts a string to setup a passwords. Your entered password must\n",
    "meet the following requirements:\n",
    "\n",
    "The password must be at least eight characters long.\n",
    "\n",
    "It must contain at least one uppercase letter.\n",
    "\n",
    "It must contain at least one lowercase letter.\n",
    "\n",
    "It must contain at least one numeric digit.\n",
    "\n",
    "Your program should should perform this validation."
   ]
  },
  {
   "cell_type": "code",
   "execution_count": 30,
   "id": "6558a118-ce9d-41f9-be2f-1fd09019049c",
   "metadata": {},
   "outputs": [
    {
     "name": "stdin",
     "output_type": "stream",
     "text": [
      "Enter your password:  Moheed123\n"
     ]
    },
    {
     "name": "stdout",
     "output_type": "stream",
     "text": [
      "Password is valid.\n"
     ]
    }
   ],
   "source": [
    "password = input(\"Enter your password: \")\n",
    "\n",
    "length_ok = len(password) >= 8\n",
    "has_upper = any(char.isupper() for char in password)\n",
    "has_lower = any(char.islower() for char in password)\n",
    "has_digit = any(char.isdigit() for char in password)\n",
    "\n",
    "if length_ok and has_upper and has_lower and has_digit:\n",
    "    print(\"Password is valid.\")\n",
    "else:\n",
    "    print(\"Password is invalid.\")"
   ]
  },
  {
   "cell_type": "code",
   "execution_count": null,
   "id": "ed42613b-3618-4b30-869c-7c21f7a4a2f3",
   "metadata": {},
   "outputs": [],
   "source": []
  }
 ],
 "metadata": {
  "kernelspec": {
   "display_name": "Python 3 (ipykernel)",
   "language": "python",
   "name": "python3"
  },
  "language_info": {
   "codemirror_mode": {
    "name": "ipython",
    "version": 3
   },
   "file_extension": ".py",
   "mimetype": "text/x-python",
   "name": "python",
   "nbconvert_exporter": "python",
   "pygments_lexer": "ipython3",
   "version": "3.13.5"
  }
 },
 "nbformat": 4,
 "nbformat_minor": 5
}
