{
 "cells": [
  {
   "cell_type": "markdown",
   "id": "780280d5-f3c4-4343-9345-0e5066707883",
   "metadata": {},
   "source": [
    "# Part -1 Python Basics (Variables)"
   ]
  },
  {
   "cell_type": "markdown",
   "id": "27e618ce-7742-46ff-8103-c80af9206a6b",
   "metadata": {},
   "source": [
    "1. Print Your Name with your Father name and Date of birth using suitable escape sequence charactor"
   ]
  },
  {
   "cell_type": "code",
   "execution_count": 8,
   "id": "605d7316-ff88-4827-ae12-616d2fd7e6a7",
   "metadata": {},
   "outputs": [
    {
     "name": "stdout",
     "output_type": "stream",
     "text": [
      "My name is Moheed\n",
      "My Father name is Anwar\n",
      "My date of birth is 25-10-2004\n"
     ]
    }
   ],
   "source": [
    "my_name = 'Moheed'\n",
    "f_name = 'Anwar'\n",
    "dob = '25-10-2004'\n",
    "\n",
    "print(\"My name is \" + my_name  + '\\n' + \"My Father name is \" + f_name + '\\n' + \"My date of birth is \" + dob)"
   ]
  },
  {
   "cell_type": "markdown",
   "id": "e935281b-693d-4dea-8fb9-f54c15ff04df",
   "metadata": {},
   "source": [
    "2. Write your small bio using variables and print it using print function"
   ]
  },
  {
   "cell_type": "code",
   "execution_count": 9,
   "id": "2ab578fc-28dc-47f2-9ecc-5ea905ec0a70",
   "metadata": {},
   "outputs": [
    {
     "name": "stdout",
     "output_type": "stream",
     "text": [
      "My f_name is Moheed and l_name is Siddiqui and cinc number is 12345667890\n"
     ]
    }
   ],
   "source": [
    "my_name = 'Moheed'\n",
    "l_name = 'Siddiqui'\n",
    "cnic_num = '12345667890'\n",
    "\n",
    "print(f\"My f_name is {my_name} and l_name is {l_name} and cinc number is {cnic_num}\")"
   ]
  },
  {
   "cell_type": "markdown",
   "id": "dd1ffaa3-93a1-4091-95ec-34e686743525",
   "metadata": {},
   "source": [
    "3. Write a program in which use all the operators we can use in Python"
   ]
  },
  {
   "cell_type": "code",
   "execution_count": 19,
   "id": "c92d0992-57cc-4f15-97de-8095b242838e",
   "metadata": {},
   "outputs": [],
   "source": [
    "num_1 = 12\n",
    "num_2 = 10"
   ]
  },
  {
   "cell_type": "code",
   "execution_count": 20,
   "id": "bab4b3c1-dabc-4871-9d66-e62108825180",
   "metadata": {},
   "outputs": [
    {
     "data": {
      "text/plain": [
       "22"
      ]
     },
     "execution_count": 20,
     "metadata": {},
     "output_type": "execute_result"
    }
   ],
   "source": [
    "num_1 + num_2"
   ]
  },
  {
   "cell_type": "code",
   "execution_count": 21,
   "id": "076b1b35-a653-4217-9162-8e5a13a60b30",
   "metadata": {},
   "outputs": [
    {
     "data": {
      "text/plain": [
       "2"
      ]
     },
     "execution_count": 21,
     "metadata": {},
     "output_type": "execute_result"
    }
   ],
   "source": [
    "num_1 - num_2"
   ]
  },
  {
   "cell_type": "code",
   "execution_count": 22,
   "id": "e431bfe5-7f6a-464e-8e3e-fa48f15a3810",
   "metadata": {},
   "outputs": [
    {
     "data": {
      "text/plain": [
       "120"
      ]
     },
     "execution_count": 22,
     "metadata": {},
     "output_type": "execute_result"
    }
   ],
   "source": [
    "num_1 * num_2"
   ]
  },
  {
   "cell_type": "code",
   "execution_count": 23,
   "id": "6a9fa31a-289d-4b2f-96fb-048e0f01c64b",
   "metadata": {},
   "outputs": [
    {
     "data": {
      "text/plain": [
       "1.2"
      ]
     },
     "execution_count": 23,
     "metadata": {},
     "output_type": "execute_result"
    }
   ],
   "source": [
    "num_1 / num_2"
   ]
  },
  {
   "cell_type": "code",
   "execution_count": 24,
   "id": "dc4611cd-8dbd-4330-87ee-ab8d2ec44910",
   "metadata": {},
   "outputs": [
    {
     "data": {
      "text/plain": [
       "2"
      ]
     },
     "execution_count": 24,
     "metadata": {},
     "output_type": "execute_result"
    }
   ],
   "source": [
    "num_1 % num_2"
   ]
  },
  {
   "cell_type": "code",
   "execution_count": 26,
   "id": "dc0b182f-711a-4605-8885-90cdf57136bf",
   "metadata": {},
   "outputs": [
    {
     "data": {
      "text/plain": [
       "61917364224"
      ]
     },
     "execution_count": 26,
     "metadata": {},
     "output_type": "execute_result"
    }
   ],
   "source": [
    "num_1 ** num_2"
   ]
  },
  {
   "cell_type": "code",
   "execution_count": 27,
   "id": "38218ebd-5fe7-4444-bf42-d8e3207cc8d1",
   "metadata": {},
   "outputs": [
    {
     "data": {
      "text/plain": [
       "1"
      ]
     },
     "execution_count": 27,
     "metadata": {},
     "output_type": "execute_result"
    }
   ],
   "source": [
    "num_1 // num_2"
   ]
  },
  {
   "cell_type": "markdown",
   "id": "e91484bd-9599-4c11-a7fa-366d6d0bd037",
   "metadata": {},
   "source": [
    "4. Completes the following steps of small task:\n",
    "- Mention Marks of English , Islamiat and Maths out of 100 in 3 different variables\n",
    "- Mention Variable of Total Marks and assign 300 to it\n",
    "- Calculate Percentage"
   ]
  },
  {
   "cell_type": "code",
   "execution_count": 31,
   "id": "b20c4e6f-a775-4e95-b9fd-c2cf80b94a69",
   "metadata": {},
   "outputs": [
    {
     "name": "stdout",
     "output_type": "stream",
     "text": [
      "73.33\n"
     ]
    }
   ],
   "source": [
    "eng = 70\n",
    "isl = 60\n",
    "math = 90\n",
    "t_marks = 300\n",
    "\n",
    "obtained_marks = eng + isl + math\n",
    "\n",
    "percentage = (obtained_marks / t_marks) * 100\n",
    "print(round(percentage, 2))"
   ]
  },
  {
   "cell_type": "markdown",
   "id": "90703234-0cd8-47b4-945b-1d67b412f1d2",
   "metadata": {},
   "source": [
    "# Part -2 Python Basics (Conditional Statements)"
   ]
  },
  {
   "cell_type": "markdown",
   "id": "5d2e7b47-9510-413a-bb01-5e2fce14d521",
   "metadata": {},
   "source": [
    "1. A company decided to give bonus of 5% to employee if his/her year of service is more than 5 years. Ask user for their salary and year of service and print the net bonus amount."
   ]
  },
  {
   "cell_type": "code",
   "execution_count": null,
   "id": "7a8078a3-45be-40fe-8d63-a2f624cab39b",
   "metadata": {},
   "outputs": [
    {
     "name": "stdout",
     "output_type": "stream",
     "text": [
      "Enter your salary:  10000\n",
      "Enter your service:  6\n"
     ]
    },
    {
     "name": "stdout",
     "output_type": "stream",
     "text": [
      "Your bonus amount is : 500.0\n"
     ]
    }
   ],
   "source": [
    "salary = float(input('Enter your salary: '))\n",
    "years = int(input('Enter your service: '))\n",
    "\n",
    "if years > 5:\n",
    "    bonus = salary * 0.05\n",
    "else:\n",
    "    bonus = 0\n",
    "\n",
    "print(\"Your bonus amount is :\", bonus)"
   ]
  },
  {
   "cell_type": "markdown",
   "id": "231491a5-037a-4b37-a397-6f171eb45d40",
   "metadata": {},
   "source": [
    "2. Write a program to check whether a person is eligible for voting or not. (accept age from user) if age is greater than 17 eligible otherwise not eligible"
   ]
  },
  {
   "cell_type": "code",
   "execution_count": 46,
   "id": "099b61cc-7239-48ce-8c16-7f2806d981d3",
   "metadata": {},
   "outputs": [
    {
     "name": "stdout",
     "output_type": "stream",
     "text": [
      "Enter your age:  18\n"
     ]
    },
    {
     "name": "stdout",
     "output_type": "stream",
     "text": [
      "Eligible\n"
     ]
    }
   ],
   "source": [
    "age = int(input('Enter your age: '))\n",
    "\n",
    "if age > 17:\n",
    "    print('Eligible')\n",
    "else:\n",
    "    print('Not eligible')"
   ]
  },
  {
   "cell_type": "markdown",
   "id": "5314304c-55e5-4509-8340-6df3966c84fb",
   "metadata": {},
   "source": [
    "3. Write a program to check whether a number entered by user is even or odd."
   ]
  },
  {
   "cell_type": "code",
   "execution_count": 59,
   "id": "01980658-deb8-43d7-ab84-30df9aecb6b0",
   "metadata": {},
   "outputs": [
    {
     "name": "stdout",
     "output_type": "stream",
     "text": [
      "Enter your number:  3\n"
     ]
    },
    {
     "name": "stdout",
     "output_type": "stream",
     "text": [
      "3 is odd\n"
     ]
    }
   ],
   "source": [
    "num = int(input('Enter your number: '))\n",
    "\n",
    "if num % 2 == 0:\n",
    "    print(f\"{num} is even\")\n",
    "else:\n",
    "    print(f\"{num} is odd\")"
   ]
  },
  {
   "cell_type": "markdown",
   "id": "0d5e1951-17a1-49f8-ad2b-4eaccaf30bc2",
   "metadata": {},
   "source": [
    "4. Write a program to check whether a number is divisible by 7 or not. Show Answer"
   ]
  },
  {
   "cell_type": "code",
   "execution_count": null,
   "id": "ab4160be-7aea-4e6b-b7d0-803dbadf2bc5",
   "metadata": {},
   "outputs": [
    {
     "name": "stdout",
     "output_type": "stream",
     "text": [
      "Enter your number:  2\n"
     ]
    },
    {
     "name": "stdout",
     "output_type": "stream",
     "text": [
      "No\n"
     ]
    }
   ],
   "source": [
    "num = int(input('Enter your number: '))\n",
    "\n",
    "if num % 7 == 0:\n",
    "    print('Yes')\n",
    "else:\n",
    "    print('No')"
   ]
  },
  {
   "cell_type": "markdown",
   "id": "daefda92-e37a-4def-9988-f7acb66328ff",
   "metadata": {},
   "source": [
    "5. Write a program to display \"Hello\" if a number entered by user is a multiple of five , otherwise print \"Bye\"."
   ]
  },
  {
   "cell_type": "code",
   "execution_count": 70,
   "id": "3accc1bd-e151-4231-819a-1d8c15c641db",
   "metadata": {},
   "outputs": [
    {
     "name": "stdout",
     "output_type": "stream",
     "text": [
      "Enter your number:  2\n"
     ]
    },
    {
     "name": "stdout",
     "output_type": "stream",
     "text": [
      "Bye\n"
     ]
    }
   ],
   "source": [
    "num = int(input('Enter your number: '))\n",
    "\n",
    "if num % 5 == 0:\n",
    "    print('Hello')\n",
    "else:\n",
    "    print('Bye')"
   ]
  },
  {
   "cell_type": "markdown",
   "id": "32363258-15a6-4294-90ea-24ec708ae24f",
   "metadata": {},
   "source": [
    "6. Write a program to display the last digit of a number."
   ]
  },
  {
   "cell_type": "code",
   "execution_count": null,
   "id": "f2a736dd-3a17-4241-8735-93f8eeede40f",
   "metadata": {},
   "outputs": [
    {
     "name": "stdout",
     "output_type": "stream",
     "text": [
      "Enter a number:  20\n"
     ]
    },
    {
     "name": "stdout",
     "output_type": "stream",
     "text": [
      "The last digit of 6 is: 6\n"
     ]
    }
   ],
   "source": [
    "num = int(input(\"Enter a number: \"))\n",
    "last_digit = num % 10\n",
    "\n",
    "print(\"The last digit of the number is:\", last_digit)"
   ]
  },
  {
   "cell_type": "markdown",
   "id": "0c5aecf2-23f4-4d7b-a5d9-74afeb3bb6d2",
   "metadata": {},
   "source": [
    "7. Take values of length and breadth of a rectangle from user and print if it is square or rectangle."
   ]
  },
  {
   "cell_type": "code",
   "execution_count": 82,
   "id": "fed549f0-c72e-4e00-8f7c-e2917dbff40f",
   "metadata": {},
   "outputs": [
    {
     "name": "stdout",
     "output_type": "stream",
     "text": [
      "Enter the length of the rectangle:  50\n",
      "Enter the breadth of the rectangle:  50\n"
     ]
    },
    {
     "name": "stdout",
     "output_type": "stream",
     "text": [
      "It is a Square.\n"
     ]
    }
   ],
   "source": [
    "length = float(input(\"Enter the length of the rectangle: \"))\n",
    "breadth = float(input(\"Enter the breadth of the rectangle: \"))\n",
    "if length == breadth:\n",
    "    print(\"It is a Square.\")\n",
    "else:\n",
    "    print(\"It is a Rectangle.\")"
   ]
  },
  {
   "cell_type": "markdown",
   "id": "e7892f13-13d1-4d92-bac8-80b34573bb9f",
   "metadata": {},
   "source": [
    "8. Take two int values from user and print greatest among them."
   ]
  },
  {
   "cell_type": "code",
   "execution_count": 86,
   "id": "edb7bc6c-6fac-45d6-a6f4-43b45259677b",
   "metadata": {},
   "outputs": [
    {
     "name": "stdout",
     "output_type": "stream",
     "text": [
      "Enter the first integer:  3\n",
      "Enter the second integer:  5\n"
     ]
    },
    {
     "name": "stdout",
     "output_type": "stream",
     "text": [
      "The greatest number is: 5\n"
     ]
    }
   ],
   "source": [
    "num1 = int(input(\"Enter the first integer: \"))\n",
    "num2 = int(input(\"Enter the second integer: \"))\n",
    "\n",
    "if num1 > num2:\n",
    "    print(f\"The greatest number is: {num1}\")\n",
    "else:\n",
    "    print(f\"The greatest number is: {num2}\")"
   ]
  },
  {
   "cell_type": "markdown",
   "id": "dc409350-fb90-4ac0-8f13-427569cb37b6",
   "metadata": {},
   "source": [
    "9. A shop will give discount of 10% if the cost of purchased quantity is more than 1000. Ask user for quantity Suppose, one unit will cost 100. Judge and print total cost for user."
   ]
  },
  {
   "cell_type": "code",
   "execution_count": 91,
   "id": "506c596c-bec1-4de3-8610-e370232bd61b",
   "metadata": {},
   "outputs": [
    {
     "name": "stdout",
     "output_type": "stream",
     "text": [
      "Enter quantity:  2\n"
     ]
    },
    {
     "name": "stdout",
     "output_type": "stream",
     "text": [
      "Total cost: Not Your Quantity\n"
     ]
    }
   ],
   "source": [
    "quantity = int(input(\"Enter quantity: \"))\n",
    "cost = quantity * 100\n",
    "\n",
    "if cost > 1000:\n",
    "    cost = cost - (cost * 0.10)\n",
    "else:\n",
    "    cost = 'Not Your Quantity'\n",
    "print(\"Total cost:\", cost)"
   ]
  },
  {
   "cell_type": "markdown",
   "id": "317cd948-c0ee-47bc-8dee-4f03d589fe17",
   "metadata": {},
   "source": [
    "10. A school has following rules for grading system:\n",
    "\n",
    "a. Below 25 - F\n",
    "\n",
    "b. 25 to 45 - E\n",
    "\n",
    "c. 45 to 50 - D\n",
    "\n",
    "d. 50 to 60 - C\n",
    "\n",
    "e. 60 to 80 - B\n",
    "\n",
    "f. Above 80 - A\n",
    "\n",
    "Ask user to enter marks and print the corresponding grade."
   ]
  },
  {
   "cell_type": "code",
   "execution_count": null,
   "id": "627feb8c-1f45-4c05-8920-300465adb7dd",
   "metadata": {},
   "outputs": [
    {
     "name": "stdout",
     "output_type": "stream",
     "text": [
      "Enter your marks:  44\n"
     ]
    },
    {
     "name": "stdout",
     "output_type": "stream",
     "text": [
      "Your grade is E\n"
     ]
    }
   ],
   "source": [
    "marks = int(input(\"Enter your marks: \"))\n",
    "\n",
    "if marks >= 80:\n",
    "    print(\"Your grade is A\")\n",
    "elif marks >= 60:\n",
    "    print(\"Your grade is B\")\n",
    "elif marks >= 50:\n",
    "    print(\"Your grade is C\")\n",
    "elif marks >= 45:\n",
    "    print(\"Your grade is D\")\n",
    "elif marks > 25:\n",
    "    print(\"Your grade is E\")\n",
    "else:\n",
    "    print(\"Your grade is F\")"
   ]
  },
  {
   "cell_type": "markdown",
   "id": "2cd99d61-d847-49e2-8361-4300d316c3d4",
   "metadata": {},
   "source": [
    "11. A student will not be allowed to sit in exam if his/her attendence is less than 75%.\n",
    "\n",
    "Take following input from user\n",
    "\n",
    "- Number of classes held\n",
    "- Number of classes attended.\n",
    "\n",
    "And print\n",
    "\n",
    "- percentage of class attended\n",
    "- Is student is allowed to sit in exam or not."
   ]
  },
  {
   "cell_type": "code",
   "execution_count": 112,
   "id": "c87e0244-6d96-410b-a912-601c033961ca",
   "metadata": {},
   "outputs": [
    {
     "name": "stdout",
     "output_type": "stream",
     "text": [
      "Enter number of held classes:  10\n",
      "Enter number of classes attended:  8\n"
     ]
    },
    {
     "name": "stdout",
     "output_type": "stream",
     "text": [
      "number_held 10\n",
      "class_attend 8\n",
      "percentage 80.0\n",
      "You are allowed to sit in exam.\n"
     ]
    }
   ],
   "source": [
    "number_held = int(input(\"Enter number of held classes: \"))\n",
    "class_attend = int(input(\"Enter number of classes attended: \"))\n",
    "\n",
    "print('number_held', number_held)\n",
    "print('class_attend', class_attend)\n",
    "\n",
    "percentage = (class_attend / number_held) * 100\n",
    "print('percentage', percentage)\n",
    "\n",
    "if percentage >= 75:\n",
    "    print(\"You are allowed to sit in exam.\")\n",
    "else:\n",
    "    print(\"You are not allowed to sit in exam.\")"
   ]
  },
  {
   "cell_type": "markdown",
   "id": "fe6eac69-c57c-4239-ad40-8360b9521478",
   "metadata": {},
   "source": [
    "12. Modify the above question to allow student to sit if he/she has medical cause. Ask user if he/she has medical cause or not ( 'Y' or 'N' ) and print accordingly."
   ]
  },
  {
   "cell_type": "code",
   "execution_count": 114,
   "id": "f959fcc9-6f13-41bc-9f02-53afadedc18d",
   "metadata": {},
   "outputs": [
    {
     "name": "stdout",
     "output_type": "stream",
     "text": [
      "Do you have a medical cause reason? Y\n"
     ]
    },
    {
     "name": "stdout",
     "output_type": "stream",
     "text": [
      "You are allowed to sit in exam.\n"
     ]
    }
   ],
   "source": [
    "medical_cause = input('Do you have a medical cause reason?')\n",
    "\n",
    "if medical_cause == 'Y':\n",
    "    print(\"You are allowed to sit in exam.\")\n",
    "else:\n",
    "    print(\"You are not allowed to sit in exam.\")"
   ]
  },
  {
   "cell_type": "markdown",
   "id": "eaa85609-0547-4b17-b4f6-26eb778a3fca",
   "metadata": {},
   "source": [
    "13. Write a program to check if a year is leap year or not.\n",
    "If a year is divisible by 4 then it is leap year but if the year is century year like 2000, 1900, 2100 then it must be divisible by 400."
   ]
  },
  {
   "cell_type": "code",
   "execution_count": 117,
   "id": "846b3f82-8fac-491f-be24-0466eb9ec4cb",
   "metadata": {},
   "outputs": [
    {
     "name": "stdout",
     "output_type": "stream",
     "text": [
      "Enter a year:  2024\n"
     ]
    },
    {
     "name": "stdout",
     "output_type": "stream",
     "text": [
      "2024 is a Leap Year\n"
     ]
    }
   ],
   "source": [
    "year = int(input(\"Enter a year: \"))\n",
    "\n",
    "if (year % 4 == 0):\n",
    "    if (year % 100 == 0):\n",
    "        if (year % 400 == 0):\n",
    "            print(year, \"is a Leap Year\")\n",
    "        else:\n",
    "            print(year, \"is Not a Leap Year\")\n",
    "    else:\n",
    "        print(year, \"is a Leap Year\")\n",
    "else:\n",
    "    print(year, \"is Not a Leap Year\")"
   ]
  },
  {
   "cell_type": "markdown",
   "id": "1b292d65-2aa8-4286-a9af-4a7b3234d882",
   "metadata": {},
   "source": [
    "14. Ask user to enter age, gender ( M or F ), marital status ( Y or N ) and then using following rules print their place of service.\n",
    "\n",
    "if employee is female, then she will work only in urban areas.\n",
    "\n",
    "if employee is a male and age is in between 20 to 40 then he may work in anywhere\n",
    "\n",
    "if employee is male and age is in between 40 t0 60 then he will work in urban areas only.\n",
    "\n",
    "And any other input of age should print \"ERROR\""
   ]
  },
  {
   "cell_type": "code",
   "execution_count": 120,
   "id": "12a918ef-143f-4879-9780-610aa4e1985d",
   "metadata": {},
   "outputs": [
    {
     "name": "stdout",
     "output_type": "stream",
     "text": [
      "Enter your age:  20\n",
      "Enter your gender (M/F):  male\n",
      "Enter your marital status (Y/N):  N\n"
     ]
    },
    {
     "name": "stdout",
     "output_type": "stream",
     "text": [
      "He may work anywhere.\n"
     ]
    }
   ],
   "source": [
    "age = int(input('Enter your age: '))\n",
    "gender = input('Enter your gender (M/F): ').lower()\n",
    "status = input('Enter your marital status (Y/N): ').upper()\n",
    "\n",
    "if gender == 'female':\n",
    "    print('She will work only in urban areas.')\n",
    "elif gender == 'male':\n",
    "    if age >= 20 or age <= 40:\n",
    "        print('He may work anywhere.')\n",
    "    elif age > 40 or age <= 60:\n",
    "        print('He will work in urban areas only.')\n",
    "    else:\n",
    "        print('ERROR')\n",
    "else:\n",
    "    print('Invalid gender input.')"
   ]
  },
  {
   "cell_type": "markdown",
   "id": "8f00d664-e88b-4a21-9e54-2971eba13cff",
   "metadata": {},
   "source": [
    "15. Write a program to calculate the electricity bill (accept number of unit from user) according to the following criteria : Unit Price\n",
    "uptp 100 units no charge Next 200 units Rs 5 per unit After 200 units Rs 10 per unit (For example if input unit is 350 than total bill amount is Rs.3500 (For example if input unit is 97 than total bill amount is Rs.0 (For example if input unit is 150 than total bill amount is Rs.750"
   ]
  },
  {
   "cell_type": "code",
   "execution_count": 3,
   "id": "7dca8b0d-6fc4-4816-9cc9-eaed901814e4",
   "metadata": {},
   "outputs": [
    {
     "name": "stdout",
     "output_type": "stream",
     "text": [
      "Enter the number of units:  500\n"
     ]
    },
    {
     "name": "stdout",
     "output_type": "stream",
     "text": [
      "Total bill amount is Rs. 3000\n"
     ]
    }
   ],
   "source": [
    "units = int(input(\"Enter the number of units: \"))\n",
    "\n",
    "if units <= 100:\n",
    "    bill = 0\n",
    "elif units <= 300:\n",
    "    bill = (units - 100) * 5\n",
    "else:\n",
    "    bill = (200 * 5) + (units - 300) * 10\n",
    "\n",
    "print(\"Total bill amount is Rs.\", bill)"
   ]
  },
  {
   "cell_type": "markdown",
   "id": "b8d9044c-6004-4058-b1a1-9fb78af57e5d",
   "metadata": {},
   "source": [
    "16. Take input of age of 3 people by user and determine oldest and youngest among them."
   ]
  },
  {
   "cell_type": "code",
   "execution_count": null,
   "id": "8909e1f5-142c-40e0-b582-1678b6f777f1",
   "metadata": {},
   "outputs": [
    {
     "name": "stdout",
     "output_type": "stream",
     "text": [
      "Enter age of first person:  47\n",
      "Enter age of second person:  43\n",
      "Enter age of third person:  23\n"
     ]
    },
    {
     "name": "stdout",
     "output_type": "stream",
     "text": [
      "Oldest age is: 47\n",
      "Youngest age is: 23\n"
     ]
    }
   ],
   "source": [
    "age1 = int(input(\"Enter age of first person: \"))\n",
    "age2 = int(input(\"Enter age of second person: \"))\n",
    "age3 = int(input(\"Enter age of third person: \"))\n",
    "\n",
    "\n",
    "if age1 >= age2 and age1 >= age3:\n",
    "    oldest = age1\n",
    "elif age2 >= age1 and age2 >= age3:\n",
    "    oldest = age2\n",
    "else:\n",
    "    oldest = age3\n",
    "\n",
    "if age1 <= age2 and age1 <= age3:\n",
    "    youngest = age1\n",
    "elif age2 <= age1 and age2 <= age3:\n",
    "    youngest = age2\n",
    "else:\n",
    "    youngest = age3\n",
    "\n",
    "print(\"Oldest age is:\", oldest)\n",
    "print(\"Youngest age is:\", youngest)"
   ]
  },
  {
   "cell_type": "code",
   "execution_count": null,
   "id": "76fe632f-8df0-4d73-8df3-a973ecb63a93",
   "metadata": {},
   "outputs": [],
   "source": []
  }
 ],
 "metadata": {
  "kernelspec": {
   "display_name": "Python 3 (ipykernel)",
   "language": "python",
   "name": "python3"
  },
  "language_info": {
   "codemirror_mode": {
    "name": "ipython",
    "version": 3
   },
   "file_extension": ".py",
   "mimetype": "text/x-python",
   "name": "python",
   "nbconvert_exporter": "python",
   "pygments_lexer": "ipython3",
   "version": "3.13.5"
  }
 },
 "nbformat": 4,
 "nbformat_minor": 5
}
